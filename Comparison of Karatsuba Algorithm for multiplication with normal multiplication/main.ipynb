{
 "cells": [
  {
   "attachments": {},
   "cell_type": "markdown",
   "metadata": {},
   "source": [
    "### **<center><font style=\"color:rgb(0,255,255)\">Karatsuba Algorithm for Integer Multiplication</font> </center>**"
   ]
  },
  {
   "attachments": {},
   "cell_type": "markdown",
   "metadata": {},
   "source": [
    "<font style=\"color:rgb(255,255,255)\">The Karatsuba algorithm is a fast multiplication algorithm that was developed by Anatoly Karatsuba in the 1960s. It is a divide and conquer algorithm that reduces the multiplication of two n-digit numbers to three multiplications of n/2-digit numbers. It is based on the observation that the product of two numbers can be expressed as the sum of two products of half the size, plus a correction term.\n",
    "\n",
    "The Karatsuba algorithm has a time complexity of *`O(n^log_2 3)`*, which is faster than the traditional multiplication algorithm, which has a time complexity of **```O(n^2)```**. This makes it more efficient for large numbers and has made it a popular choice for implementing multiplication in computer software. It is also used as a building block for more efficient multiplication algorithms, such as the **```Toom-Cook```** algorithm and the **```Schönhage-Strassen```** algorithm. </font>"
   ]
  },
  {
   "cell_type": "code",
   "execution_count": 1,
   "metadata": {},
   "outputs": [
    {
     "name": "stdout",
     "output_type": "stream",
     "text": [
      "Karatsuba\n"
     ]
    }
   ],
   "source": [
    "print(\"Karatsuba\")"
   ]
  },
  {
   "cell_type": "code",
   "execution_count": null,
   "metadata": {},
   "outputs": [],
   "source": []
  }
 ],
 "metadata": {
  "kernelspec": {
   "display_name": "Python 3",
   "language": "python",
   "name": "python3"
  },
  "language_info": {
   "codemirror_mode": {
    "name": "ipython",
    "version": 3
   },
   "file_extension": ".py",
   "mimetype": "text/x-python",
   "name": "python",
   "nbconvert_exporter": "python",
   "pygments_lexer": "ipython3",
   "version": "3.9.1 (tags/v3.9.1:1e5d33e, Dec  7 2020, 17:08:21) [MSC v.1927 64 bit (AMD64)]"
  },
  "orig_nbformat": 4,
  "vscode": {
   "interpreter": {
    "hash": "b671c20432fcd147198c92e7f072af9e705f087eb990bee22b07f08caab9f630"
   }
  }
 },
 "nbformat": 4,
 "nbformat_minor": 2
}
