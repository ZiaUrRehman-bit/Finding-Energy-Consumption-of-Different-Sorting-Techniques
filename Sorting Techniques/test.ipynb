{
 "cells": [
  {
   "cell_type": "code",
   "execution_count": 1,
   "metadata": {},
   "outputs": [],
   "source": [
    "import numpy as np"
   ]
  },
  {
   "attachments": {},
   "cell_type": "markdown",
   "metadata": {},
   "source": [
    "##### Taking input from User"
   ]
  },
  {
   "cell_type": "code",
   "execution_count": 3,
   "metadata": {},
   "outputs": [],
   "source": [
    "TotalNumer = int(input(\"How man ynumber you want to sort: \"))"
   ]
  },
  {
   "cell_type": "code",
   "execution_count": 4,
   "metadata": {},
   "outputs": [
    {
     "data": {
      "text/plain": [
       "5"
      ]
     },
     "execution_count": 4,
     "metadata": {},
     "output_type": "execute_result"
    }
   ],
   "source": [
    "TotalNumer"
   ]
  },
  {
   "cell_type": "code",
   "execution_count": 5,
   "metadata": {},
   "outputs": [
    {
     "data": {
      "text/plain": [
       "[3, 5, 6, 7, 8]"
      ]
     },
     "execution_count": 5,
     "metadata": {},
     "output_type": "execute_result"
    }
   ],
   "source": [
    "list = []\n",
    "\n",
    "for i in range(0,TotalNumer):\n",
    "    list.append(int(input(f\"Enter {i+1} number: \")))\n",
    "\n",
    "list"
   ]
  },
  {
   "cell_type": "code",
   "execution_count": 6,
   "metadata": {},
   "outputs": [
    {
     "data": {
      "text/plain": [
       "'e'"
      ]
     },
     "execution_count": 6,
     "metadata": {},
     "output_type": "execute_result"
    }
   ],
   "source": [
    "input(\"ENter\")"
   ]
  },
  {
   "cell_type": "code",
   "execution_count": 8,
   "metadata": {},
   "outputs": [
    {
     "data": {
      "text/plain": [
       "[31,\n",
       " 34,\n",
       " 68,\n",
       " 49,\n",
       " 83,\n",
       " 88,\n",
       " 13,\n",
       " 4,\n",
       " 84,\n",
       " 7,\n",
       " 98,\n",
       " 60,\n",
       " 47,\n",
       " 98,\n",
       " 89,\n",
       " 95,\n",
       " 100,\n",
       " 79,\n",
       " 63,\n",
       " 10,\n",
       " 38,\n",
       " 50,\n",
       " 3,\n",
       " 54,\n",
       " 15,\n",
       " 54,\n",
       " 21,\n",
       " 24,\n",
       " 23,\n",
       " 55,\n",
       " 6,\n",
       " 9,\n",
       " 35,\n",
       " 12,\n",
       " 28,\n",
       " 56,\n",
       " 69,\n",
       " 75,\n",
       " 43,\n",
       " 25,\n",
       " 47,\n",
       " 21,\n",
       " 53,\n",
       " 39,\n",
       " 77,\n",
       " 86,\n",
       " 49,\n",
       " 97,\n",
       " 91,\n",
       " 30,\n",
       " 65,\n",
       " 41,\n",
       " 94,\n",
       " 52,\n",
       " 82,\n",
       " 18,\n",
       " 40,\n",
       " 81,\n",
       " 3,\n",
       " 63,\n",
       " 75,\n",
       " 78,\n",
       " 6,\n",
       " 39,\n",
       " 30,\n",
       " 94,\n",
       " 92,\n",
       " 64,\n",
       " 87,\n",
       " 90,\n",
       " 75,\n",
       " 85,\n",
       " 94,\n",
       " 20,\n",
       " 94,\n",
       " 88,\n",
       " 67,\n",
       " 6,\n",
       " 85,\n",
       " 12,\n",
       " 22,\n",
       " 75,\n",
       " 21,\n",
       " 31,\n",
       " 1,\n",
       " 49,\n",
       " 7,\n",
       " 51,\n",
       " 20,\n",
       " 12,\n",
       " 1,\n",
       " 41,\n",
       " 31,\n",
       " 61,\n",
       " 27,\n",
       " 48,\n",
       " 57,\n",
       " 54,\n",
       " 68,\n",
       " 43]"
      ]
     },
     "execution_count": 8,
     "metadata": {},
     "output_type": "execute_result"
    }
   ],
   "source": [
    "import random\n",
    "number = []\n",
    "for i in range(0,100):\n",
    "    number.append((random.randint(1,100)))\n",
    "\n",
    "number"
   ]
  },
  {
   "cell_type": "code",
   "execution_count": 1,
   "metadata": {},
   "outputs": [],
   "source": [
    "import psutil, os"
   ]
  },
  {
   "cell_type": "code",
   "execution_count": 6,
   "metadata": {},
   "outputs": [
    {
     "name": "stdout",
     "output_type": "stream",
     "text": [
      "41.4\n"
     ]
    }
   ],
   "source": [
    "print(psutil.cpu_percent(interval=1))"
   ]
  },
  {
   "cell_type": "code",
   "execution_count": 1,
   "metadata": {},
   "outputs": [],
   "source": [
    "list = [2,7,1,0,4,6,12,5,8,9]"
   ]
  },
  {
   "cell_type": "code",
   "execution_count": 3,
   "metadata": {},
   "outputs": [
    {
     "name": "stdout",
     "output_type": "stream",
     "text": [
      "[2, 7, 1, 0, 4, 6, 12, 5, 8]\n"
     ]
    }
   ],
   "source": [
    "print(list[0:9])"
   ]
  },
  {
   "cell_type": "code",
   "execution_count": null,
   "metadata": {},
   "outputs": [],
   "source": []
  }
 ],
 "metadata": {
  "kernelspec": {
   "display_name": "Python 3",
   "language": "python",
   "name": "python3"
  },
  "language_info": {
   "codemirror_mode": {
    "name": "ipython",
    "version": 3
   },
   "file_extension": ".py",
   "mimetype": "text/x-python",
   "name": "python",
   "nbconvert_exporter": "python",
   "pygments_lexer": "ipython3",
   "version": "3.9.1 (tags/v3.9.1:1e5d33e, Dec  7 2020, 17:08:21) [MSC v.1927 64 bit (AMD64)]"
  },
  "orig_nbformat": 4,
  "vscode": {
   "interpreter": {
    "hash": "b671c20432fcd147198c92e7f072af9e705f087eb990bee22b07f08caab9f630"
   }
  }
 },
 "nbformat": 4,
 "nbformat_minor": 2
}
